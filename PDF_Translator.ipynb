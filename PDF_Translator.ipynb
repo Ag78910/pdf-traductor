{
 "cells": [
  {
   "cell_type": "markdown",
   "id": "2187076b",
   "metadata": {},
   "source": [
    "# 🇩🇪→🇬🇧 PDF Translator\n",
    "\n",
    "Translate German PDF documents into English using a pre-trained Transformer model (MarianMT) from Hugging Face."
   ]
  },
  {
   "cell_type": "markdown",
   "id": "b5b25cd7",
   "metadata": {},
   "source": [
    "## 📦 Install Dependencies"
   ]
  },
  {
   "cell_type": "code",
   "execution_count": null,
   "id": "9a60556e",
   "metadata": {},
   "outputs": [],
   "source": [
    "!pip install transformers pdfplumber fpdf"
   ]
  },
  {
   "cell_type": "markdown",
   "id": "38bfaee0",
   "metadata": {},
   "source": [
    "## 📚 Import Libraries"
   ]
  },
  {
   "cell_type": "code",
   "execution_count": null,
   "id": "c3b34a0a",
   "metadata": {},
   "outputs": [],
   "source": [
    "from transformers import MarianMTModel, MarianTokenizer\n",
    "import pdfplumber\n",
    "from fpdf import FPDF\n",
    "from google.colab import files"
   ]
  },
  {
   "cell_type": "markdown",
   "id": "1a1a458a",
   "metadata": {},
   "source": [
    "## 📤 Upload a German PDF File"
   ]
  },
  {
   "cell_type": "code",
   "execution_count": null,
   "id": "35e763c0",
   "metadata": {},
   "outputs": [],
   "source": [
    "print(\"⬆️ Please upload a German PDF file\")\n",
    "uploaded = files.upload()\n",
    "input_pdf = [f for f in uploaded if f.endswith('.pdf')][0]"
   ]
  },
  {
   "cell_type": "markdown",
   "id": "ef07e7be",
   "metadata": {},
   "source": [
    "## 🔁 Load Pre-trained Translation Model (German to English)"
   ]
  },
  {
   "cell_type": "code",
   "execution_count": null,
   "id": "47d096ba",
   "metadata": {},
   "outputs": [],
   "source": [
    "model_name = 'Helsinki-NLP/opus-mt-de-en'\n",
    "tokenizer = MarianTokenizer.from_pretrained(model_name)\n",
    "model = MarianMTModel.from_pretrained(model_name)"
   ]
  },
  {
   "cell_type": "markdown",
   "id": "52587453",
   "metadata": {},
   "source": [
    "## 🔤 Define Translation Function"
   ]
  },
  {
   "cell_type": "code",
   "execution_count": null,
   "id": "91f2b03d",
   "metadata": {},
   "outputs": [],
   "source": [
    "def translate_de_to_en(text):\n",
    "    batch = tokenizer.prepare_seq2seq_batch([text], return_tensors=\"pt\")\n",
    "    gen = model.generate(**batch)\n",
    "    return tokenizer.decode(gen[0], skip_special_tokens=True)"
   ]
  },
  {
   "cell_type": "markdown",
   "id": "bed3d261",
   "metadata": {},
   "source": [
    "## 📄 Translate the PDF and Save Output"
   ]
  },
  {
   "cell_type": "code",
   "execution_count": null,
   "id": "90056dcf",
   "metadata": {},
   "outputs": [],
   "source": [
    "def translate_pdf(input_pdf_path, output_pdf_path):\n",
    "    pdf_out = FPDF()\n",
    "    pdf_out.set_auto_page_break(auto=True, margin=15)\n",
    "    pdf_out.add_page()\n",
    "    pdf_out.set_font(\"Arial\", size=12)\n",
    "\n",
    "    with pdfplumber.open(input_pdf_path) as pdf:\n",
    "        for page in pdf.pages:\n",
    "            text = page.extract_text()\n",
    "            if not text:\n",
    "                continue\n",
    "            lines = text.split(\"\\n\")\n",
    "            for line in lines:\n",
    "                line = line.strip()\n",
    "                if not line:\n",
    "                    continue\n",
    "                translated = translate_de_to_en(line)\n",
    "                print(f\"🇩🇪 {line}\\n🇬🇧 {translated}\\n\")\n",
    "                pdf_out.multi_cell(0, 10, translated)\n",
    "\n",
    "    pdf_out.output(output_pdf_path)\n",
    "    print(f\"✅ Translated PDF saved as: {output_pdf_path}\")"
   ]
  },
  {
   "cell_type": "markdown",
   "id": "a7e6fd7d",
   "metadata": {},
   "source": [
    "## ▶️ Run the Translation"
   ]
  },
  {
   "cell_type": "code",
   "execution_count": null,
   "id": "24727480",
   "metadata": {},
   "outputs": [],
   "source": [
    "output_pdf = \"translated_output.pdf\"\n",
    "translate_pdf(input_pdf, output_pdf)"
   ]
  },
  {
   "cell_type": "markdown",
   "id": "0aa1eda0",
   "metadata": {},
   "source": [
    "## 📥 Download Translated PDF"
   ]
  },
  {
   "cell_type": "code",
   "execution_count": null,
   "id": "761b766c",
   "metadata": {},
   "outputs": [],
   "source": [
    "files.download(output_pdf)"
   ]
  }
 ],
 "metadata": {},
 "nbformat": 4,
 "nbformat_minor": 5
}
